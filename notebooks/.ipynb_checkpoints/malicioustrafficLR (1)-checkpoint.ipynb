{
 "cells": [
  {
   "cell_type": "markdown",
   "id": "00827594-ea9b-463b-a2e1-ccde96b60dd8",
   "metadata": {},
   "source": [
    "## Importing our Needed Modules"
   ]
  },
  {
   "cell_type": "code",
   "execution_count": 36,
   "id": "c8ae4141-2e36-4d35-86df-0eaff1eebb14",
   "metadata": {},
   "outputs": [],
   "source": [
    "import pandas as pd\n",
    "import numpy as np\n",
    "import time\n",
    "import warnings\n",
    "import matplotlib.pyplot as plt\n",
    "from sklearn.linear_model import LinearRegression\n",
    "from sklearn.model_selection import train_test_split\n",
    "from sklearn.metrics import confusion_matrix\n",
    "\n",
    "\n",
    "warnings.filterwarnings('ignore')\n",
    "\n",
    "pd.set_option('display.max_columns', None)\n",
    "pd.set_option('display.max_rows', None)"
   ]
  },
  {
   "cell_type": "markdown",
   "id": "969b4283-97f0-4564-bf19-676c95ba3fb4",
   "metadata": {},
   "source": [
    "## Setting up our columns for the dataframes"
   ]
  },
  {
   "cell_type": "code",
   "execution_count": 37,
   "id": "bbb67708-6811-498d-8a67-9e20218219ed",
   "metadata": {},
   "outputs": [],
   "source": [
    "cols = [' Destination Port', ' Flow Duration', ' Total Fwd Packets',\n",
    "       ' Total Backward Packets', 'Total Length of Fwd Packets',\n",
    "       ' Total Length of Bwd Packets', ' Fwd Packet Length Max',\n",
    "       ' Fwd Packet Length Min', ' Fwd Packet Length Mean',\n",
    "       ' Fwd Packet Length Std', 'Bwd Packet Length Max',\n",
    "       ' Bwd Packet Length Min', ' Bwd Packet Length Mean',\n",
    "       ' Bwd Packet Length Std', 'Flow Bytes/s', ' Flow Packets/s',\n",
    "       ' Flow IAT Mean', ' Flow IAT Std', ' Flow IAT Max', ' Flow IAT Min',\n",
    "       'Fwd IAT Total', ' Fwd IAT Mean', ' Fwd IAT Std', ' Fwd IAT Max',\n",
    "       ' Fwd IAT Min', 'Bwd IAT Total', ' Bwd IAT Mean', ' Bwd IAT Std',\n",
    "       ' Bwd IAT Max', ' Bwd IAT Min', 'Fwd PSH Flags', ' Bwd PSH Flags',\n",
    "       ' Fwd URG Flags', ' Bwd URG Flags', ' Fwd Header Length',\n",
    "       ' Bwd Header Length', 'Fwd Packets/s', ' Bwd Packets/s',\n",
    "       ' Min Packet Length', ' Max Packet Length', ' Packet Length Mean',\n",
    "       ' Packet Length Std', ' Packet Length Variance', 'FIN Flag Count',\n",
    "       ' SYN Flag Count', ' RST Flag Count', ' PSH Flag Count',\n",
    "       ' ACK Flag Count', ' URG Flag Count', ' CWE Flag Count',\n",
    "       ' ECE Flag Count', ' Down/Up Ratio', ' Average Packet Size',\n",
    "       ' Avg Fwd Segment Size', ' Avg Bwd Segment Size',\n",
    "       ' Fwd Header Length.1', 'Fwd Avg Bytes/Bulk', ' Fwd Avg Packets/Bulk',\n",
    "       ' Fwd Avg Bulk Rate', ' Bwd Avg Bytes/Bulk', ' Bwd Avg Packets/Bulk',\n",
    "       'Bwd Avg Bulk Rate', 'Subflow Fwd Packets', ' Subflow Fwd Bytes',\n",
    "       ' Subflow Bwd Packets', ' Subflow Bwd Bytes', 'Init_Win_bytes_forward',\n",
    "       ' Init_Win_bytes_backward', ' act_data_pkt_fwd',\n",
    "       ' min_seg_size_forward', 'Active Mean', ' Active Std', ' Active Max',\n",
    "       ' Active Min', 'Idle Mean', ' Idle Std', ' Idle Max', ' Idle Min',' Label']"
   ]
  },
  {
   "cell_type": "markdown",
   "id": "f542b72f-e3bc-4f80-978d-4125adf661c8",
   "metadata": {},
   "source": [
    "## Importing our Data"
   ]
  },
  {
   "cell_type": "code",
   "execution_count": 46,
   "id": "b1d8fd07-d49a-443a-b236-693358b73096",
   "metadata": {},
   "outputs": [],
   "source": [
    "df1=pd.read_csv(\"/workspaces/codespaces-jupyter/data/MachineLearningCVE/Friday-WorkingHours-Afternoon-DDos.pcap_ISCX.csv\", usecols = cols)#,nrows = 50000\n",
    "df2=pd.read_csv(\"/workspaces/codespaces-jupyter/data/MachineLearningCVE/Friday-WorkingHours-Afternoon-PortScan.pcap_ISCX.csv\", usecols = cols)\n",
    "df3=pd.read_csv(\"/workspaces/codespaces-jupyter/data/MachineLearningCVE/Friday-WorkingHours-Morning.pcap_ISCX.csv\", usecols = cols)\n",
    "df4=pd.read_csv(\"/workspaces/codespaces-jupyter/data/MachineLearningCVE/Thursday-WorkingHours-Afternoon-Infilteration.pcap_ISCX.csv\", usecols = cols)\n",
    "df5=pd.read_csv(\"/workspaces/codespaces-jupyter/data/MachineLearningCVE/Tuesday-WorkingHours.pcap_ISCX.csv\", usecols = cols)\n",
    "\n",
    "df = pd.concat([df1,df2])\n",
    "del df1,df2\n",
    "df = pd.concat([df, df3])\n",
    "del df3\n",
    "df = pd.concat([df, df4])\n",
    "del df4\n",
    "df = pd.concat([df, df5])"
   ]
  },
  {
   "cell_type": "markdown",
   "id": "3d2641aa-ad17-49da-ab09-4793c6f65ad8",
   "metadata": {},
   "source": [
    "## Cleaning data to build out LinearRegression Model"
   ]
  },
  {
   "cell_type": "code",
   "execution_count": 48,
   "id": "b451743f-c9e8-4e75-8bf7-8585461d6854",
   "metadata": {},
   "outputs": [],
   "source": [
    "data = df.copy()\n",
    "data.dropna(axis=1,inplace=True)\n",
    "#LinearRegression doesn't use inf,NaN datas. Flow Packets/s includes that so reduce it.\n",
    "data=data.drop(columns=[' Flow Packets/s'], axis=1, inplace=False)"
   ]
  },
  {
   "cell_type": "markdown",
   "id": "1ca9ccf3-e57b-4231-84ed-d4ee00dc0a7b",
   "metadata": {},
   "source": [
    "## Function to measure the MEAN of the data"
   ]
  },
  {
   "cell_type": "code",
   "execution_count": 49,
   "id": "23ab3d12-b57c-4910-86fc-7a07e15ef513",
   "metadata": {},
   "outputs": [],
   "source": [
    "def testing_all(data):\n",
    "    x = data[data.columns[0:-1]]\n",
    "    y = data[[' Label']]\n",
    "    x_train,x_test,y_train,y_test = train_test_split(x,y,train_size=0.8,test_size=0.2)\n",
    "    attack = ['DDoS', 'PortScan', 'Bot', 'Infiltration', 'Web Attack � Brute Force', 'Web Attack � XSS', 'Web Attack � Sql Injection']\n",
    "    normal = 'BENIGN'\n",
    "    y_train=y_train.replace(attack,-1)\n",
    "    y_train=y_train.replace(normal,1)\n",
    "    y_test=y_test.replace(attack,-1)\n",
    "    y_test=y_test.replace(normal,1)\n",
    "    model=LinearRegression()\n",
    "    model.fit(x_train, y_train) \n",
    "    y_pred = model.predict(x_test)\n",
    "    #Relabel values within a certain range to measure values\n",
    "    for i in range(0,y_pred.size):\n",
    "        if(y_pred[i]>0):\n",
    "            y_pred[i]=1\n",
    "        else:\n",
    "            y_pred[i]=-1\n",
    "    cf_matrix = confusion_matrix(y_test, y_pred)\n",
    "    tn, fp, fn, tp = cf_matrix.ravel()\n",
    "    recall = tp/(tp+fn) \n",
    "    precision = tp/(tp+fp) \n",
    "#    print(\"Recall\", recall, \"\\nPrecision\", precision)\n",
    "    f = 2 * (precision*recall)/(precision+recall)\n",
    "#    print(\"F1 Score\", f)\n",
    "    \n",
    "    return f"
   ]
  },
  {
   "cell_type": "markdown",
   "id": "7b49c4a5-a481-42a5-a8d6-3067494807e5",
   "metadata": {},
   "source": [
    "## Average f1 Score"
   ]
  },
  {
   "cell_type": "code",
   "execution_count": 50,
   "id": "d83503eb-a67a-4867-bedd-7a18678c166e",
   "metadata": {},
   "outputs": [
    {
     "name": "stdout",
     "output_type": "stream",
     "text": [
      "average f1 score: 0.9612069992569886\n"
     ]
    }
   ],
   "source": [
    "sum=0\n",
    "for z in range(1,21):\n",
    "    a = testing_all(data)\n",
    "    sum +=a\n",
    "avg= sum / 20\n",
    "print(\"average f1 score:\",avg)"
   ]
  }
 ],
 "metadata": {
  "kernelspec": {
   "display_name": "Python 3 (ipykernel)",
   "language": "python",
   "name": "python3"
  },
  "language_info": {
   "codemirror_mode": {
    "name": "ipython",
    "version": 3
   },
   "file_extension": ".py",
   "mimetype": "text/x-python",
   "name": "python",
   "nbconvert_exporter": "python",
   "pygments_lexer": "ipython3",
   "version": "3.10.10"
  }
 },
 "nbformat": 4,
 "nbformat_minor": 5
}
