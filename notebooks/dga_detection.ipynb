{
 "cells": [
  {
   "cell_type": "code",
   "execution_count": 1,
   "id": "6f5a55ea-cec7-4562-8fec-0584b32090f2",
   "metadata": {},
   "outputs": [
    {
     "name": "stderr",
     "output_type": "stream",
     "text": [
      "2024-02-12 19:38:09.848301: E external/local_xla/xla/stream_executor/cuda/cuda_dnn.cc:9261] Unable to register cuDNN factory: Attempting to register factory for plugin cuDNN when one has already been registered\n",
      "2024-02-12 19:38:09.848439: E external/local_xla/xla/stream_executor/cuda/cuda_fft.cc:607] Unable to register cuFFT factory: Attempting to register factory for plugin cuFFT when one has already been registered\n",
      "2024-02-12 19:38:10.094346: E external/local_xla/xla/stream_executor/cuda/cuda_blas.cc:1515] Unable to register cuBLAS factory: Attempting to register factory for plugin cuBLAS when one has already been registered\n",
      "2024-02-12 19:38:10.641019: I tensorflow/core/platform/cpu_feature_guard.cc:182] This TensorFlow binary is optimized to use available CPU instructions in performance-critical operations.\n",
      "To enable the following instructions: AVX2 FMA, in other operations, rebuild TensorFlow with the appropriate compiler flags.\n",
      "2024-02-12 19:38:13.741922: W tensorflow/compiler/tf2tensorrt/utils/py_utils.cc:38] TF-TRT Warning: Could not find TensorRT\n"
     ]
    }
   ],
   "source": [
    "from tensorflow.keras.preprocessing.sequence import pad_sequences\n",
    "from tensorflow.keras.models import Sequential, load_model\n",
    "from tensorflow.keras.layers import Dense, Dropout, Activation\n",
    "from tensorflow.keras.layers import Embedding\n",
    "from tensorflow.keras.layers import LSTM\n",
    "\n",
    "from pandas import read_csv, concat\n",
    "\n",
    "from sklearn.model_selection import train_test_split\n",
    "from sklearn.metrics import confusion_matrix, roc_auc_score\n",
    "\n",
    "import tldextract\n",
    "import numpy as np"
   ]
  },
  {
   "cell_type": "code",
   "execution_count": 2,
   "id": "f0b24e8b-20c1-4123-9c24-887fe13c45cf",
   "metadata": {
    "scrolled": true
   },
   "outputs": [],
   "source": [
    "legitDomains = read_csv('..//data/top-1m.csv', names=['domain'])\n",
    "dgaDomains = read_csv('../data/dga_domains.in.txt', names=['domain'])\n",
    "\n",
    "legitDomains['tld'] = [tldextract.extract(d).domain for d in legitDomains['domain']]\n",
    "dgaDomains['tld'] = [tldextract.extract(d).domain for d in dgaDomains['domain']]\n",
    "\n",
    "legitDomains = legitDomains[~legitDomains['tld'].str.contains('\\`|\\.')]\n",
    "dgaDomains = dgaDomains[~dgaDomains['tld'].str.contains('\\`|\\.')]"
   ]
  },
  {
   "cell_type": "code",
   "execution_count": 3,
   "id": "aafd24c1-abb4-4a18-b8af-8597b5ec6ae1",
   "metadata": {},
   "outputs": [],
   "source": [
    "legitDoamins = legitDomains.drop_duplicates()\n",
    "dgaDomains = dgaDomains.drop_duplicates()\n",
    "\n",
    "legitDomains['label'] = 0\n",
    "dgaDomains['label'] = 1"
   ]
  },
  {
   "cell_type": "code",
   "execution_count": 4,
   "id": "65556211-b476-4666-aaa9-515825919c0c",
   "metadata": {},
   "outputs": [],
   "source": [
    "allDomains = concat([legitDomains, dgaDomains], ignore_index=True)\n",
    "allDomains = allDomains.sample(frac=1).reset_index(drop=True)\n",
    "\n",
    "X, y = allDomains['tld'], allDomains['label']"
   ]
  },
  {
   "cell_type": "code",
   "execution_count": 5,
   "id": "a9139cbf-94cc-4f7a-ab10-b0272be73773",
   "metadata": {},
   "outputs": [],
   "source": [
    "validChars = {x: idx + 1 for idx, x in enumerate(set(''.join(X))) }\n",
    "\n",
    "maxFeatures = len(validChars) + 1\n",
    "maxlen = np.max([len(x) for x in X])"
   ]
  },
  {
   "cell_type": "code",
   "execution_count": 6,
   "id": "5829ca48-20ae-4c9d-ace8-65d9e89e928c",
   "metadata": {},
   "outputs": [],
   "source": [
    "X = [[validChars[y] for y in x] for x in X]\n",
    "X = pad_sequences(X, maxlen=maxlen)\n",
    "\n",
    "X_train, X_test, y_train, y_test = train_test_split(X, y, test_size=0.2)"
   ]
  },
  {
   "cell_type": "code",
   "execution_count": 7,
   "id": "027b9630-9248-4ac4-8e6a-64f38f053bdc",
   "metadata": {
    "scrolled": true
   },
   "outputs": [],
   "source": [
    "model = Sequential()\n",
    "model.add(Embedding(maxFeatures, 128, input_length=maxlen))\n",
    "model.add(LSTM(128))\n",
    "model.add(Dropout(0.5))\n",
    "model.add(Dense(1))\n",
    "model.add(Activation('sigmoid'))\n",
    "model.compile(loss='binary_crossentropy', optimizer='rmsprop')"
   ]
  },
  {
   "cell_type": "code",
   "execution_count": null,
   "id": "0888eb77-3ff0-4b1e-a03b-5d3c1d9a6f19",
   "metadata": {},
   "outputs": [
    {
     "name": "stderr",
     "output_type": "stream",
     "text": [
      "2024-02-12 19:39:22.389434: W external/local_tsl/tsl/framework/cpu_allocator_impl.cc:83] Allocation of 179036408 exceeds 10% of free system memory.\n"
     ]
    },
    {
     "name": "stdout",
     "output_type": "stream",
     "text": [
      "Epoch 1/10\n"
     ]
    },
    {
     "name": "stderr",
     "output_type": "stream",
     "text": [
      "2024-02-12 19:58:09.862660: W external/local_tsl/tsl/framework/cpu_allocator_impl.cc:83] Allocation of 19893072 exceeds 10% of free system memory.\n"
     ]
    },
    {
     "name": "stdout",
     "output_type": "stream",
     "text": [
      "11281/11281 - 1173s - loss: 0.0118 - val_loss: 0.0091 - 1173s/epoch - 104ms/step\n",
      "Epoch 2/10\n"
     ]
    }
   ],
   "source": [
    "model.fit(X_train, y_train, epochs=10, batch_size=64, validation_split=0.1, verbose=2)"
   ]
  },
  {
   "cell_type": "code",
   "execution_count": 1,
   "id": "e9d7c675",
   "metadata": {},
   "outputs": [
    {
     "ename": "NameError",
     "evalue": "name 'tldextract' is not defined",
     "output_type": "error",
     "traceback": [
      "\u001b[0;31m---------------------------------------------------------------------------\u001b[0m",
      "\u001b[0;31mNameError\u001b[0m                                 Traceback (most recent call last)",
      "Cell \u001b[0;32mIn[1], line 1\u001b[0m\n\u001b[0;32m----> 1\u001b[0m domain \u001b[38;5;241m=\u001b[39m [[validChars[ch] \u001b[38;5;28;01mfor\u001b[39;00m ch \u001b[38;5;129;01min\u001b[39;00m \u001b[43mtldextract\u001b[49m\u001b[38;5;241m.\u001b[39mextract(\u001b[38;5;124m'\u001b[39m\u001b[38;5;124mwikipedia.com\u001b[39m\u001b[38;5;124m'\u001b[39m)\u001b[38;5;241m.\u001b[39mdomain]]\n\u001b[1;32m      2\u001b[0m domain \u001b[38;5;241m=\u001b[39m pad_sequences(domain, maxlen\u001b[38;5;241m=\u001b[39mmaxlen)\n\u001b[1;32m      4\u001b[0m model\u001b[38;5;241m.\u001b[39mpredict(domain)\n",
      "\u001b[0;31mNameError\u001b[0m: name 'tldextract' is not defined"
     ]
    }
   ],
   "source": [
    "domain = [[validChars[ch] for ch in tldextract.extract('wikipedia.com').domain]]\n",
    "domain = pad_sequences(domain, maxlen=maxlen)\n",
    "\n",
    "model.predict(domain)"
   ]
  },
  {
   "cell_type": "code",
   "execution_count": 19,
   "id": "32469fb9",
   "metadata": {},
   "outputs": [
    {
     "name": "stdout",
     "output_type": "stream",
     "text": [
      "   3/6267 [..............................] - ETA: 2:41"
     ]
    },
    {
     "name": "stderr",
     "output_type": "stream",
     "text": [
      "<>:8: SyntaxWarning: 'str' object is not callable; perhaps you missed a comma?\n",
      "<>:8: SyntaxWarning: 'str' object is not callable; perhaps you missed a comma?\n"
     ]
    },
    {
     "name": "stdout",
     "output_type": "stream",
     "text": [
      "6267/6267 [==============================] - 171s 27ms/step\n",
      "TP: 140\n",
      "TN: 199943\n",
      "FP: 51\n",
      "FN: 400\n",
      "\n"
     ]
    },
    {
     "ename": "TypeError",
     "evalue": "'numpy.int64' object is not callable",
     "output_type": "error",
     "traceback": [
      "\u001b[0;31m---------------------------------------------------------------------------\u001b[0m",
      "\u001b[0;31mTypeError\u001b[0m                                 Traceback (most recent call last)",
      "Cell \u001b[0;32mIn[19], line 6\u001b[0m\n\u001b[1;32m      3\u001b[0m tn, fp, fn, tp \u001b[38;5;241m=\u001b[39m confusion_matrix(y_test, probs \u001b[38;5;241m>\u001b[39m \u001b[38;5;241m0.5\u001b[39m)\u001b[38;5;241m.\u001b[39mravel()\n\u001b[1;32m      5\u001b[0m \u001b[38;5;28mprint\u001b[39m(\u001b[38;5;124m'\u001b[39m\u001b[38;5;124mTP: \u001b[39m\u001b[38;5;132;01m%d\u001b[39;00m\u001b[38;5;130;01m\\n\u001b[39;00m\u001b[38;5;124mTN: \u001b[39m\u001b[38;5;132;01m%d\u001b[39;00m\u001b[38;5;130;01m\\n\u001b[39;00m\u001b[38;5;124mFP: \u001b[39m\u001b[38;5;132;01m%d\u001b[39;00m\u001b[38;5;130;01m\\n\u001b[39;00m\u001b[38;5;124mFN: \u001b[39m\u001b[38;5;132;01m%d\u001b[39;00m\u001b[38;5;130;01m\\n\u001b[39;00m\u001b[38;5;124m'\u001b[39m \u001b[38;5;241m%\u001b[39m (tp, tn, fp, fn))\n\u001b[0;32m----> 6\u001b[0m \u001b[38;5;28mprint\u001b[39m(\u001b[38;5;124m'\u001b[39m\u001b[38;5;124mFP rate: \u001b[39m\u001b[38;5;132;01m%.3f\u001b[39;00m\u001b[38;5;132;01m%%\u001b[39;00m\u001b[38;5;130;01m\\n\u001b[39;00m\u001b[38;5;124mFN rate: \u001b[39m\u001b[38;5;132;01m%.3f\u001b[39;00m\u001b[38;5;124m##\u001b[39m\u001b[38;5;130;01m\\n\u001b[39;00m\u001b[38;5;124m'\u001b[39m \u001b[38;5;241m%\u001b[39m (fp \u001b[38;5;241m/\u001b[39m (fp \u001b[38;5;241m+\u001b[39m tn) \u001b[38;5;241m*\u001b[39m \u001b[38;5;241m100\u001b[39m, \u001b[43mfn\u001b[49m\u001b[43m \u001b[49m\u001b[43m(\u001b[49m\u001b[43mfn\u001b[49m\u001b[43m \u001b[49m\u001b[38;5;241;43m+\u001b[39;49m\u001b[43m \u001b[49m\u001b[43mtp\u001b[49m\u001b[43m)\u001b[49m \u001b[38;5;241m*\u001b[39m \u001b[38;5;241m100\u001b[39m))\n\u001b[1;32m      8\u001b[0m \u001b[38;5;28mprint\u001b[39m(\u001b[38;5;124m'\u001b[39m\u001b[38;5;124mSensitivity: \u001b[39m\u001b[38;5;132;01m%.3f\u001b[39;00m\u001b[38;5;132;01m%%\u001b[39;00m\u001b[38;5;130;01m\\n\u001b[39;00m\u001b[38;5;124mSpecificity: \u001b[39m\u001b[38;5;132;01m%.3f\u001b[39;00m\u001b[38;5;132;01m%%\u001b[39;00m\u001b[38;5;130;01m\\n\u001b[39;00m\u001b[38;5;124mAccuracy: \u001b[39m\u001b[38;5;132;01m%.3f\u001b[39;00m\u001b[38;5;132;01m%%\u001b[39;00m\u001b[38;5;130;01m\\n\u001b[39;00m\u001b[38;5;124m'\u001b[39m (\n\u001b[1;32m      9\u001b[0m     tp \u001b[38;5;241m/\u001b[39m (tp \u001b[38;5;241m+\u001b[39m fn),\n\u001b[1;32m     10\u001b[0m     tn \u001b[38;5;241m/\u001b[39m (tn \u001b[38;5;241m+\u001b[39m fp),\n\u001b[1;32m     11\u001b[0m     (tp \u001b[38;5;241m+\u001b[39m fn) \u001b[38;5;241m/\u001b[39m (tp \u001b[38;5;241m+\u001b[39m tn \u001b[38;5;241m+\u001b[39m fp \u001b[38;5;241m+\u001b[39m fn)\n\u001b[1;32m     12\u001b[0m ))\n\u001b[1;32m     14\u001b[0m \u001b[38;5;28mprint\u001b[39m(\u001b[38;5;124m'\u001b[39m\u001b[38;5;124mAUC: \u001b[39m\u001b[38;5;132;01m%.3f\u001b[39;00m\u001b[38;5;132;01m%%\u001b[39;00m\u001b[38;5;124m'\u001b[39m \u001b[38;5;241m%\u001b[39m roc_auc_score(y_test, probs))\n",
      "\u001b[0;31mTypeError\u001b[0m: 'numpy.int64' object is not callable"
     ]
    }
   ],
   "source": [
    "probs = model.predict(X_test)\n",
    "\n",
    "tn, fp, fn, tp = confusion_matrix(y_test, probs > 0.5).ravel()\n",
    "\n",
    "print('TP: %d\\nTN: %d\\nFP: %d\\nFN: %d\\n' % (tp, tn, fp, fn))\n",
    "print('FP rate: %.3f%%\\nFN rate: %.3f##\\n' % (fp / (fp + tn) * 100, fn (fn + tp) * 100))\n",
    "\n",
    "print('Sensitivity: %.3f%%\\nSpecificity: %.3f%%\\nAccuracy: %.3f%%\\n' (\n",
    "    tp / (tp + fn),\n",
    "    tn / (tn + fp),\n",
    "    (tp + fn) / (tp + tn + fp + fn)\n",
    "))\n",
    "\n",
    "print('AUC: %.3f%%' % roc_auc_score(y_test, probs))"
   ]
  },
  {
   "cell_type": "code",
   "execution_count": null,
   "id": "8f85d36a-ddba-459c-be7f-10d0cc020864",
   "metadata": {},
   "outputs": [],
   "source": []
  }
 ],
 "metadata": {
  "kernelspec": {
   "display_name": "Python 3 (ipykernel)",
   "language": "python",
   "name": "python3"
  },
  "language_info": {
   "codemirror_mode": {
    "name": "ipython",
    "version": 3
   },
   "file_extension": ".py",
   "mimetype": "text/x-python",
   "name": "python",
   "nbconvert_exporter": "python",
   "pygments_lexer": "ipython3",
   "version": "3.10.10"
  }
 },
 "nbformat": 4,
 "nbformat_minor": 5
}
